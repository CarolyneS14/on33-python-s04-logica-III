{
 "cells": [
  {
   "cell_type": "markdown",
   "metadata": {},
   "source": [
    "## 32.\n",
    "Faça um programa que calcule o fatorial de um número inteiro fornecido pelo usuário. Ex.: 5!=5.4.3.2.1=120. A saída deve ser conforme o exemplo abaixo:\n",
    "Fatorial de: 5\n",
    "5! =  5 . 4 . 3 . 2 . 1 = 120"
   ]
  },
  {
   "cell_type": "code",
   "execution_count": 13,
   "metadata": {},
   "outputs": [
    {
     "name": "stdout",
     "output_type": "stream",
     "text": [
      "Fatorial de: 5\n",
      "5! = 5 . 4 . 3 . 2 . 1 = 120\n"
     ]
    }
   ],
   "source": [
    "#definir funcao para calcular o fatorial\n",
    "def calcular_fatorial(numero):\n",
    "    fatorial = 1\n",
    "    for i in range(1, int(numero) + 1): #tive que transformar a entrada para int.\n",
    "        fatorial *= i\n",
    "    return fatorial     \n",
    "    \n",
    "#solicitar ao usuario um número inteiro\n",
    "numero = input(\"Insira um número inteiro: \")\n",
    "\n",
    "#chamar a funcao definida acima para calcular o fatorial com o numero inserido pelo usuario.\n",
    "resultado = calcular_fatorial(numero)\n",
    "\n",
    "#exibir o resultado do calculo.\n",
    "print(f'Fatorial de: {int(numero)}')\n",
    "print(f\"{int(numero)}! = {' . '.join(str(i) for i in range(int(numero), 0, -1))} = {resultado}\")\n"
   ]
  },
  {
   "cell_type": "markdown",
   "metadata": {},
   "source": [
    "## 36.\n",
    "Desenvolva um programa que faça a tabuada de um número qualquer inteiro que será digitado pelo usuário, mas a tabuada não deve necessariamente iniciar em 1 e terminar em 10, o valor inicial e final devem ser informados também pelo usuário, conforme exemplo abaixo:\n",
    "\n",
    "Montar a tabuada de: 5\n",
    "Começar por: 4\n",
    "Terminar em: 7\n",
    "\n",
    "Vou montar a tabuada de 5 começando em 4 e terminando em 7:\n",
    "5 X 4 = 20\n",
    "5 X 5 = 25\n",
    "5 X 6 = 30\n",
    "5 X 7 = 35\n",
    "Obs: Você deve verificar se o usuário não digitou o final menor que o inicial."
   ]
  },
  {
   "cell_type": "code",
   "execution_count": 15,
   "metadata": {},
   "outputs": [
    {
     "name": "stdout",
     "output_type": "stream",
     "text": [
      "8 x 4 = 32\n",
      "8 x 5 = 40\n",
      "8 x 6 = 48\n",
      "8 x 7 = 56\n",
      "8 x 8 = 64\n",
      "8 x 9 = 72\n"
     ]
    }
   ],
   "source": [
    "#solicitar ao usuario números\n",
    "numero = int(input(\"Digite um número para ser multiplicado: \"))\n",
    "multiplicador_inicial = int(input(\"Digite um número para ser o multiplicador inicial:\"))\n",
    "multiplicador_final = int(input(\"Digite outro número para ser o multiplicador final:\"))\n",
    "\n",
    "#calcular a tabuada\n",
    "while multiplicador_inicial <= multiplicador_final:\n",
    "    resultado = numero * multiplicador_inicial\n",
    "    print(f\"{numero} x {multiplicador_inicial} = {resultado}\")\n",
    "    multiplicador_inicial += 1\n"
   ]
  },
  {
   "cell_type": "markdown",
   "metadata": {},
   "source": [
    "## 38.\n",
    "Um funcionário de uma empresa recebe aumento salarial anualmente: Sabe-se que:\n",
    "Esse funcionário foi contratado em 1995, com salário inicial de R$ 1.000,00;\n",
    "Em 1996 recebeu aumento de 1,5% sobre seu salário inicial;\n",
    "A partir de 1997 (inclusive), os aumentos salariais sempre correspondem ao dobro do percentual do ano anterior. Faça um programa que determine o salário atual desse funcionário. Após concluir isto, altere o programa permitindo que o usuário digite o salário inicial do funcionário."
   ]
  },
  {
   "cell_type": "code",
   "execution_count": 38,
   "metadata": {},
   "outputs": [
    {
     "name": "stdout",
     "output_type": "stream",
     "text": [
      "O salário atual deste funcionário é de: R$ 7991153224284128798258150233991349427319130527005635733005380091904.00\n"
     ]
    }
   ],
   "source": [
    "#Salário inicial em 1995\n",
    "salario_inicial = float(1000)\n",
    "#Aumento salarial\n",
    "aumento_inicial = float(1.5/100)\n",
    "\n",
    "#calcular o salário anual\n",
    "for ano in range(1996, 2023):\n",
    "    salario_inicial += salario_inicial * aumento_inicial\n",
    "    aumento_inicial *= 2 \n",
    "\n",
    "print(f'O salário atual deste funcionário é de: R$ {salario_inicial:.2f}')"
   ]
  },
  {
   "cell_type": "code",
   "execution_count": 43,
   "metadata": {},
   "outputs": [
    {
     "name": "stdout",
     "output_type": "stream",
     "text": [
      "Seu salário atual é de: R$ 7.991153224284129e+66\n"
     ]
    }
   ],
   "source": [
    "#Usuario digita seu salário inicial\n",
    "salario_inicial = float(input('Digite seu salário em reais: '))\n",
    "\n",
    "#ano de contratacao\n",
    "ano_contratacao = 1995\n",
    "\n",
    "#Variavel de aumento de salário anual.\n",
    "aumento_inicial = float(1.5/100)\n",
    "\n",
    "#calcular o salário anual\n",
    "for ano in range(1996, 2023):\n",
    "    salario_inicial += salario_inicial * aumento_inicial\n",
    "    aumento_inicial *= 2 \n",
    "\n",
    "print(f'Seu salário atual é de: R$ {salario_inicial}')\n"
   ]
  }
 ],
 "metadata": {
  "kernelspec": {
   "display_name": "Python 3",
   "language": "python",
   "name": "python3"
  },
  "language_info": {
   "codemirror_mode": {
    "name": "ipython",
    "version": 3
   },
   "file_extension": ".py",
   "mimetype": "text/x-python",
   "name": "python",
   "nbconvert_exporter": "python",
   "pygments_lexer": "ipython3",
   "version": "3.12.4"
  }
 },
 "nbformat": 4,
 "nbformat_minor": 2
}
